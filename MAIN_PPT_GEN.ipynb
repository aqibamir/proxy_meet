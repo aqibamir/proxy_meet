{
 "cells": [
  {
   "cell_type": "code",
   "execution_count": 7,
   "id": "8dedf33b-cab4-4f1e-8f1c-9a1b52648818",
   "metadata": {},
   "outputs": [
    {
     "name": "stdout",
     "output_type": "stream",
     "text": [
      "Requirement already satisfied: google-auth in c:\\users\\omarf\\python310\\lib\\site-packages (2.38.0)\n",
      "Requirement already satisfied: google-auth-oauthlib in c:\\users\\omarf\\python310\\lib\\site-packages (1.2.2)\n",
      "Requirement already satisfied: google-auth-httplib2 in c:\\users\\omarf\\python310\\lib\\site-packages (0.2.0)\n",
      "Requirement already satisfied: google-api-python-client in c:\\users\\omarf\\python310\\lib\\site-packages (2.173.0)\n",
      "Requirement already satisfied: cachetools<6.0,>=2.0.0 in c:\\users\\omarf\\python310\\lib\\site-packages (from google-auth) (5.5.2)\n",
      "Requirement already satisfied: pyasn1-modules>=0.2.1 in c:\\users\\omarf\\python310\\lib\\site-packages (from google-auth) (0.4.2)\n",
      "Requirement already satisfied: rsa<5,>=3.1.4 in c:\\users\\omarf\\python310\\lib\\site-packages (from google-auth) (4.9)\n",
      "Requirement already satisfied: requests-oauthlib>=0.7.0 in c:\\users\\omarf\\python310\\lib\\site-packages (from google-auth-oauthlib) (2.0.0)\n",
      "Requirement already satisfied: httplib2>=0.19.0 in c:\\users\\omarf\\python310\\lib\\site-packages (from google-auth-httplib2) (0.22.0)\n",
      "Requirement already satisfied: google-api-core!=2.0.*,!=2.1.*,!=2.2.*,!=2.3.0,<3.0.0,>=1.31.5 in c:\\users\\omarf\\python310\\lib\\site-packages (from google-api-python-client) (2.25.1)\n",
      "Requirement already satisfied: uritemplate<5,>=3.0.1 in c:\\users\\omarf\\python310\\lib\\site-packages (from google-api-python-client) (4.2.0)\n",
      "Requirement already satisfied: googleapis-common-protos<2.0.0,>=1.56.2 in c:\\users\\omarf\\python310\\lib\\site-packages (from google-api-core!=2.0.*,!=2.1.*,!=2.2.*,!=2.3.0,<3.0.0,>=1.31.5->google-api-python-client) (1.69.2)\n",
      "Requirement already satisfied: protobuf!=3.20.0,!=3.20.1,!=4.21.0,!=4.21.1,!=4.21.2,!=4.21.3,!=4.21.4,!=4.21.5,<7.0.0,>=3.19.5 in c:\\users\\omarf\\python310\\lib\\site-packages (from google-api-core!=2.0.*,!=2.1.*,!=2.2.*,!=2.3.0,<3.0.0,>=1.31.5->google-api-python-client) (5.29.4)\n",
      "Requirement already satisfied: proto-plus<2.0.0,>=1.22.3 in c:\\users\\omarf\\python310\\lib\\site-packages (from google-api-core!=2.0.*,!=2.1.*,!=2.2.*,!=2.3.0,<3.0.0,>=1.31.5->google-api-python-client) (1.26.1)\n",
      "Requirement already satisfied: requests<3.0.0,>=2.18.0 in c:\\users\\omarf\\python310\\lib\\site-packages (from google-api-core!=2.0.*,!=2.1.*,!=2.2.*,!=2.3.0,<3.0.0,>=1.31.5->google-api-python-client) (2.32.3)\n",
      "Requirement already satisfied: pyparsing!=3.0.0,!=3.0.1,!=3.0.2,!=3.0.3,<4,>=2.4.2 in c:\\users\\omarf\\python310\\lib\\site-packages (from httplib2>=0.19.0->google-auth-httplib2) (3.2.0)\n",
      "Requirement already satisfied: pyasn1<0.7.0,>=0.6.1 in c:\\users\\omarf\\python310\\lib\\site-packages (from pyasn1-modules>=0.2.1->google-auth) (0.6.1)\n",
      "Requirement already satisfied: oauthlib>=3.0.0 in c:\\users\\omarf\\python310\\lib\\site-packages (from requests-oauthlib>=0.7.0->google-auth-oauthlib) (3.2.2)\n",
      "Requirement already satisfied: charset-normalizer<4,>=2 in c:\\users\\omarf\\python310\\lib\\site-packages (from requests<3.0.0,>=2.18.0->google-api-core!=2.0.*,!=2.1.*,!=2.2.*,!=2.3.0,<3.0.0,>=1.31.5->google-api-python-client) (3.4.1)\n",
      "Requirement already satisfied: idna<4,>=2.5 in c:\\users\\omarf\\python310\\lib\\site-packages (from requests<3.0.0,>=2.18.0->google-api-core!=2.0.*,!=2.1.*,!=2.2.*,!=2.3.0,<3.0.0,>=1.31.5->google-api-python-client) (3.10)\n",
      "Requirement already satisfied: urllib3<3,>=1.21.1 in c:\\users\\omarf\\python310\\lib\\site-packages (from requests<3.0.0,>=2.18.0->google-api-core!=2.0.*,!=2.1.*,!=2.2.*,!=2.3.0,<3.0.0,>=1.31.5->google-api-python-client) (2.4.0)\n",
      "Requirement already satisfied: certifi>=2017.4.17 in c:\\users\\omarf\\python310\\lib\\site-packages (from requests<3.0.0,>=2.18.0->google-api-core!=2.0.*,!=2.1.*,!=2.2.*,!=2.3.0,<3.0.0,>=1.31.5->google-api-python-client) (2025.6.15)\n"
     ]
    },
    {
     "name": "stderr",
     "output_type": "stream",
     "text": [
      "\n",
      "[notice] A new release of pip is available: 24.3.1 -> 25.1.1\n",
      "[notice] To update, run: python.exe -m pip install --upgrade pip\n"
     ]
    }
   ],
   "source": [
    "!pip install google-auth google-auth-oauthlib google-auth-httplib2 google-api-python-client"
   ]
  },
  {
   "cell_type": "code",
   "execution_count": 8,
   "id": "015a224b-dc65-4244-a2df-267bff192ef5",
   "metadata": {},
   "outputs": [],
   "source": [
    "from google.oauth2 import service_account\n",
    "from googleapiclient.discovery import build\n",
    "\n",
    "# Load credentials\n",
    "SERVICE_ACCOUNT_FILE = 'credentials.json'  # Update this\n",
    "SCOPES = ['https://www.googleapis.com/auth/drive', 'https://www.googleapis.com/auth/presentations']\n",
    "\n",
    "creds = service_account.Credentials.from_service_account_file(\n",
    "    SERVICE_ACCOUNT_FILE, scopes=SCOPES)\n",
    "\n",
    "# Create Google Drive and Slides API services\n",
    "drive_service = build('drive', 'v3', credentials=creds)\n",
    "slides_service = build('slides', 'v1', credentials=creds)\n"
   ]
  },
  {
   "cell_type": "code",
   "execution_count": 9,
   "id": "e2848d93-ab85-460d-8ec4-662e3e592d3a",
   "metadata": {},
   "outputs": [],
   "source": [
    "def list_templates(drive_service, folder_id):\n",
    "    query = f\"'{folder_id}' in parents and mimeType='application/vnd.google-apps.presentation'\"\n",
    "    results = drive_service.files().list(q=query, fields=\"files(id, name)\").execute()\n",
    "    return results.get('files', [])\n"
   ]
  },
  {
   "cell_type": "code",
   "execution_count": 10,
   "id": "53ddb2dd-90b2-4558-b433-1db6b84c62d1",
   "metadata": {},
   "outputs": [
    {
     "name": "stdout",
     "output_type": "stream",
     "text": [
      "Your big idea 1vp5DlKGz_DoQQ9_hpffB79xAacej4tLRpcmDUo-5TwA\n",
      "Project Wireframes 1HwhdZm8ZD-b6bYD-xw8MR4_d3hw_LSpXmCrMifwQ8Vg\n",
      "Project Updates 13g3GkrvyqG_C05zHqeX94B3SZ84qbuGifPa7wu8dHZA\n"
     ]
    }
   ],
   "source": [
    "templates = list_templates(drive_service, '1bz3HQH4TUEqEFIid-zjIYqFeCcaA96z1')\n",
    "for t in templates:\n",
    "    print(t['name'], t['id'])\n"
   ]
  },
  {
   "cell_type": "markdown",
   "id": "0d49d48b-03e2-4162-98eb-83fe9802f692",
   "metadata": {},
   "source": [
    "### Fuly functional with UI"
   ]
  }
 ],
 "metadata": {
  "kernelspec": {
   "display_name": "Python 3 (ipykernel)",
   "language": "python",
   "name": "python3"
  },
  "language_info": {
   "codemirror_mode": {
    "name": "ipython",
    "version": 3
   },
   "file_extension": ".py",
   "mimetype": "text/x-python",
   "name": "python",
   "nbconvert_exporter": "python",
   "pygments_lexer": "ipython3",
   "version": "3.10.10"
  }
 },
 "nbformat": 4,
 "nbformat_minor": 5
}
